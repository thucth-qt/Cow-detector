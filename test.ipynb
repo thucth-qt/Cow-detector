{
 "cells": [
  {
   "cell_type": "code",
   "execution_count": 10,
   "metadata": {},
   "outputs": [],
   "source": [
    "import cv2\n",
    "import numpy as np\n",
    "import os\n",
    "import matplotlib.pyplot as plt\n",
    "\n",
    "os.makedirs(\"tmp\", exist_ok=True)"
   ]
  },
  {
   "cell_type": "code",
   "execution_count": 20,
   "metadata": {},
   "outputs": [
    {
     "data": {
      "image/png": "[encoded data removed]",
      "text/plain": [
       "<Figure size 432x288 with 1 Axes>"
      ]
     },
     "metadata": {
      "needs_background": "light"
     },
     "output_type": "display_data"
    }
   ],
   "source": [
    "#iamge\n",
    "img = np.ones((500, 500))*255\n",
    "#target in center format => find target in bbox??\n",
    "cx, cy, w, h, alpha = 204.2, 154.0, 100.5, 50.2, np.pi/4\n",
    "\n",
    "#step1: src for straight rectangle\n",
    "tl = (cx-w/2, cy-h/2)\n",
    "tr = (cx+w/2, cy-h/2)\n",
    "bl = (cx-w/2, cy+h/2)\n",
    "br = (cx+w/2, cy+h/2)\n",
    "src_points = np.array([tl, tr, br, bl]).T\n",
    "\n",
    "#step2: center, angle => rotation matrix\n",
    "rotation_matrix = cv2.getRotationMatrix2D((cx, cy), -alpha/np.pi*180, 1)\n",
    "R = np.array(rotation_matrix[:2, :2])\n",
    "t = np.array(rotation_matrix[:, 2])\n",
    "\n",
    "#step3: multiply rotation matrix with src_points\n",
    "x = R@src_points + np.expand_dims(t, 1)\n",
    "x = x.astype(np.int32).T\n",
    "\n",
    "result_tl = (np.min(x[:,0]), np.min(x[:,1]))\n",
    "result_br = (np.max(x[:,0]), np.max(x[:,1]))\n",
    "\n",
    "# #Visualize =>target in bbox\n",
    "x = x.reshape((-1, 1, 2))\n",
    "result = cv2.polylines(img, [x], True, 200, 2)\n",
    "result = cv2.polylines(result, [src_points.astype(np.int32).T], True, 127, 2)\n",
    "# cv2.imwrite(os.path.join('tmp', 'result.png'), result)\n",
    "cv2.rectangle(result, result_tl, result_br, color=0)\n",
    "plt.imshow(result)\n",
    "plt.show()"
   ]
  },
  {
   "cell_type": "code",
   "execution_count": 10,
   "metadata": {},
   "outputs": [
    {
     "data": {
      "text/plain": [
       "True"
      ]
     },
     "execution_count": 10,
     "metadata": {},
     "output_type": "execute_result"
    }
   ],
   "source": [
    "# x = R@(src_points + np.expand_dims(t, 1))\n",
    "x = R@src_points + np.expand_dims(t, 1)\n",
    "\n",
    "x = x.astype(np.int32).T\n",
    "x = x.reshape((-1, 1, 2))\n",
    "\n",
    "result = cv2.polylines(img, [x], True, 0, 2)\n",
    "\n",
    "result = cv2.polylines(result, [src_points.astype(np.int32).T], True, 127, 2)\n",
    "\n",
    "cv2.imwrite(os.path.join('tmp', 'result.png'), result)"
   ]
  }
 ],
 "metadata": {
  "interpreter": {
   "hash": "949777d72b0d2535278d3dc13498b2535136f6dfe0678499012e853ee9abcab1"
  },
  "kernelspec": {
   "display_name": "Python 3.7.13 64-bit",
   "language": "python",
   "name": "python3"
  },
  "language_info": {
   "codemirror_mode": {
    "name": "ipython",
    "version": 3
   },
   "file_extension": ".py",
   "mimetype": "text/x-python",
   "name": "python",
   "nbconvert_exporter": "python",
   "pygments_lexer": "ipython3",
   "version": "3.7.13"
  },
  "orig_nbformat": 4
 },
 "nbformat": 4,
 "nbformat_minor": 2
}
