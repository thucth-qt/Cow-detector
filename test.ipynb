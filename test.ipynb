{
 "cells": [
  {
   "cell_type": "code",
   "execution_count": 10,
   "metadata": {},
   "outputs": [],
   "source": [
    "import cv2\n",
    "import numpy as np\n",
    "import os\n",
    "import matplotlib.pyplot as plt\n",
    "\n",
    "os.makedirs(\"tmp\", exist_ok=True)"
   ]
  },
  {
   "cell_type": "code",
   "execution_count": 20,
   "metadata": {},
   "outputs": [
    {
     "data": {
      "image/png": "[encoded data removed]",
      "text/plain": [
       "<Figure size 432x288 with 1 Axes>"
      ]
     },
     "metadata": {
      "needs_background": "light"
     },
     "output_type": "display_data"
    }
   ],
   "source": [
    "#iamge\n",
    "img = np.ones((500, 500))*255\n",
    "#target in center format => find target in bbox??\n",
    "cx, cy, w, h, alpha = 204.2, 154.0, 100.5, 50.2, np.pi/4\n",
    "\n",
    "#step1: src for straight rectangle\n",
    "tl = (cx-w/2, cy-h/2)\n",
    "tr = (cx+w/2, cy-h/2)\n",
    "bl = (cx-w/2, cy+h/2)\n",
    "br = (cx+w/2, cy+h/2)\n",
    "src_points = np.array([tl, tr, br, bl]).T\n",
    "\n",
    "#step2: center, angle => rotation matrix\n",
    "rotation_matrix = cv2.getRotationMatrix2D((cx, cy), -alpha/np.pi*180, 1)\n",
    "R = np.array(rotation_matrix[:2, :2])\n",
    "t = np.array(rotation_matrix[:, 2])\n",
    "\n",
    "#step3: multiply rotation matrix with src_points\n",
    "x = R@src_points + np.expand_dims(t, 1)\n",
    "x = x.astype(np.int32).T\n",
    "\n",
    "result_tl = (np.min(x[:,0]), np.min(x[:,1]))\n",
    "result_br = (np.max(x[:,0]), np.max(x[:,1]))\n",
    "\n",
    "# #Visualize =>target in bbox\n",
    "x = x.reshape((-1, 1, 2))\n",
    "result = cv2.polylines(img, [x], True, 200, 2)\n",
    "result = cv2.polylines(result, [src_points.astype(np.int32).T], True, 127, 2)\n",
    "# cv2.imwrite(os.path.join('tmp', 'result.png'), result)\n",
    "cv2.rectangle(result, result_tl, result_br, color=0)\n",
    "plt.imshow(result)\n",
    "plt.show()"
   ]
  },
  {
   "cell_type": "code",
   "execution_count": 10,
   "metadata": {},
   "outputs": [
    {
     "data": {
      "text/plain": [
       "True"
      ]
     },
     "execution_count": 10,
     "metadata": {},
     "output_type": "execute_result"
    }
   ],
   "source": [
    "# x = R@(src_points + np.expand_dims(t, 1))\n",
    "x = R@src_points + np.expand_dims(t, 1)\n",
    "\n",
    "x = x.astype(np.int32).T\n",
    "x = x.reshape((-1, 1, 2))\n",
    "\n",
    "result = cv2.polylines(img, [x], True, 0, 2)\n",
    "\n",
    "result = cv2.polylines(result, [src_points.astype(np.int32).T], True, 127, 2)\n",
    "\n",
    "cv2.imwrite(os.path.join('tmp', 'result.png'), result)"
   ]
  },
  {
   "cell_type": "code",
   "execution_count": 25,
   "metadata": {},
   "outputs": [],
   "source": [
    "from glob import glob\n",
    "total_paths = []\n",
    "for ext in [\"*.jpg\", \"*.jpeg\", \"*.JPG\", \"*.JPEG\", \"*.png\", \"*.PNG\"]:\n",
    "    paths=glob(\"/content/Cow-detector/dataset/Sub-levels/Detection_and_localisation/Test/images/val/\"+ext)\n",
    "    total_paths.extend(paths)\n",
    "\n",
    "total_paths = [path+\"\\n\" for path in total_paths]\n",
    "with open(\"/content/Cow-detector/data/test.txt\", \"w\") as f:\n",
    "    f.writelines(total_paths)"
   ]
  },
  {
   "cell_type": "markdown",
   "metadata": {},
   "source": [
    "## visualize shed1"
   ]
  },
  {
   "cell_type": "code",
   "execution_count": null,
   "metadata": {},
   "outputs": [],
   "source": [
    "!mkdir /content/Cow-detector/dataset/shed-1\n",
    "!unzip /content/Cow-detector/dataset/shed-1.zip -q -d /content/Cow-detector/dataset/shed-1"
   ]
  },
  {
   "cell_type": "code",
   "execution_count": 11,
   "metadata": {},
   "outputs": [
    {
     "ename": "ValueError",
     "evalue": "attempt to assign sequence of size 3840 to extended slice of size 2",
     "output_type": "error",
     "traceback": [
      "\u001b[0;31m---------------------------------------------------------------------------\u001b[0m",
      "\u001b[0;31mValueError\u001b[0m                                Traceback (most recent call last)",
      "\u001b[0;32m<ipython-input-11-ddd3ad49b705>\u001b[0m in \u001b[0;36m<module>\u001b[0;34m()\u001b[0m\n\u001b[1;32m     13\u001b[0m         \u001b[0mcoord\u001b[0m \u001b[0;34m=\u001b[0m \u001b[0mbbox\u001b[0m\u001b[0;34m.\u001b[0m\u001b[0msplit\u001b[0m\u001b[0;34m(\u001b[0m\u001b[0;34m\" \"\u001b[0m\u001b[0;34m)\u001b[0m\u001b[0;34m[\u001b[0m\u001b[0;36m1\u001b[0m\u001b[0;34m:\u001b[0m\u001b[0;34m]\u001b[0m\u001b[0;34m\u001b[0m\u001b[0;34m\u001b[0m\u001b[0m\n\u001b[1;32m     14\u001b[0m         \u001b[0mcoord\u001b[0m \u001b[0;34m=\u001b[0m \u001b[0;34m[\u001b[0m\u001b[0mfloat\u001b[0m\u001b[0;34m(\u001b[0m\u001b[0mc\u001b[0m\u001b[0;34m)\u001b[0m \u001b[0;32mfor\u001b[0m \u001b[0mc\u001b[0m \u001b[0;32min\u001b[0m \u001b[0mcoord\u001b[0m\u001b[0;34m]\u001b[0m\u001b[0;34m\u001b[0m\u001b[0;34m\u001b[0m\u001b[0m\n\u001b[0;32m---> 15\u001b[0;31m         \u001b[0mcoord\u001b[0m\u001b[0;34m[\u001b[0m\u001b[0;36m0\u001b[0m\u001b[0;34m:\u001b[0m\u001b[0;34m:\u001b[0m\u001b[0;36m2\u001b[0m\u001b[0;34m]\u001b[0m\u001b[0;34m*=\u001b[0m\u001b[0mw\u001b[0m\u001b[0;34m\u001b[0m\u001b[0;34m\u001b[0m\u001b[0m\n\u001b[0m\u001b[1;32m     16\u001b[0m         \u001b[0mcoord\u001b[0m\u001b[0;34m[\u001b[0m\u001b[0;36m1\u001b[0m\u001b[0;34m:\u001b[0m\u001b[0;34m:\u001b[0m\u001b[0;36m2\u001b[0m\u001b[0;34m]\u001b[0m\u001b[0;34m*=\u001b[0m\u001b[0mh\u001b[0m\u001b[0;34m\u001b[0m\u001b[0;34m\u001b[0m\u001b[0m\n\u001b[1;32m     17\u001b[0m         \u001b[0mprint\u001b[0m\u001b[0;34m(\u001b[0m\u001b[0mcoord\u001b[0m\u001b[0;34m)\u001b[0m\u001b[0;34m\u001b[0m\u001b[0;34m\u001b[0m\u001b[0m\n",
      "\u001b[0;31mValueError\u001b[0m: attempt to assign sequence of size 3840 to extended slice of size 2"
     ]
    }
   ],
   "source": [
    "from glob import glob\n",
    "import cv2\n",
    "\n",
    "paths = glob(\"/content/Cow-detector/dataset/shed-1/obj_train_data/*.txt\")\n",
    "\n",
    "path = paths[0]\n",
    "\n",
    "img = cv2.imread(path.replace(\"txt\", \"jpg\"))\n",
    "with open(path,\"r\") as f:\n",
    "    bbox = f.readline()[:-1]\n",
    "    while bbox:\n",
    "        h,w,*c = img.shape\n",
    "        coord = bbox.split(\" \")[1:]\n",
    "        coord = [float(c) for c in coord]\n",
    "        coord[0::2]*=w\n",
    "        coord[1::2]*=h\n",
    "        print(coord)\n",
    "        bbox = f.readline()[:-1]\n",
    "\n",
    "\n"
   ]
  }
 ],
 "metadata": {
  "interpreter": {
   "hash": "949777d72b0d2535278d3dc13498b2535136f6dfe0678499012e853ee9abcab1"
  },
  "kernelspec": {
   "display_name": "Python 3.7.13 64-bit",
   "language": "python",
   "name": "python3"
  },
  "language_info": {
   "codemirror_mode": {
    "name": "ipython",
    "version": 3
   },
   "file_extension": ".py",
   "mimetype": "text/x-python",
   "name": "python",
   "nbconvert_exporter": "python",
   "pygments_lexer": "ipython3",
   "version": "3.7.13"
  },
  "orig_nbformat": 4
 },
 "nbformat": 4,
 "nbformat_minor": 2
}
